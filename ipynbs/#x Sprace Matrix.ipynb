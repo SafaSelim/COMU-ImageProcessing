{
 "cells": [
  {
   "cell_type": "markdown",
   "metadata": {},
   "source": [
    "# Sprace Matrix"
   ]
  },
  {
   "cell_type": "code",
   "execution_count": 32,
   "metadata": {
    "collapsed": true
   },
   "outputs": [],
   "source": [
    "from matplotlib.pyplot import imread as imread\n",
    "from scipy import misc\n",
    "import matplotlib.pyplot as plt\n",
    "import numpy as np"
   ]
  },
  {
   "cell_type": "markdown",
   "metadata": {},
   "source": [
    "## Beyaz Siyah'a Çeviren Fonksiyon"
   ]
  },
  {
   "cell_type": "code",
   "execution_count": 151,
   "metadata": {
    "collapsed": true
   },
   "outputs": [],
   "source": [
    "def convert_RGB_to_BW(img, threshold = 100):\n",
    "    res = np.zeros((img.shape[0], img.shape[1]))\n",
    "    for i in range(res.shape[0]):\n",
    "        for j in range(res.shape[1]):\n",
    "            # 3 bileşenlerin ortalaması belirlenen threshold üstünde ise 1 olarak kabul edeceğiz\n",
    "            if(sum(img[i,j,:])/3 > threshold):\n",
    "                res[i,j] = 1\n",
    "            # değil ise 0 olarak kabul edeceğiz\n",
    "            else:\n",
    "                res[i,j] = 0\n",
    "    return res"
   ]
  },
  {
   "cell_type": "markdown",
   "metadata": {},
   "source": [
    "## Histogram Hesaplayan Fonksiyon"
   ]
  },
  {
   "cell_type": "code",
   "execution_count": 83,
   "metadata": {
    "collapsed": true
   },
   "outputs": [],
   "source": [
    "def get_histogram(img):\n",
    "    res = {}\n",
    "    for i in range(img.shape[0]):\n",
    "        for j in range(img.shape[1]):\n",
    "            item = img[i,j]\n",
    "            if(item in res):\n",
    "                res[item] += 1\n",
    "            else:\n",
    "                res[item] = 1\n",
    "    return res"
   ]
  },
  {
   "cell_type": "markdown",
   "metadata": {},
   "source": [
    "# Sprace Matrisler\n",
    "\n",
    "Saklanılacak image'ı çok sayıda 0'ler kapsadığı için tüm değerleri saklamak bellek israfı olur, bundan dolayı ``Sprace Matrix``'ı kullanarak 'önemli değerler' tutuyoruz.\n",
    "\n",
    "2 şey oluşturacağız :\n",
    "\n",
    "* **D seti**: foto'da pixillerin değeri 1 olan pixellerin kordanitorları, içinde 2 tuple elemanlar bulunuyor, örnek: (1,2), (3,55).\n",
    " Set Olduğu için aynı eleman birden fazla bulunamaz\n",
    "\n",
    "* **f sözlüğü**: D setinde her bir eleman için değer vermek için kullanılacak, bizim durumda fotoyu sadece 0 ve 1'lerden oluştuğu için tüm elemanlar içinde 1 olacak (0 olamaz çünkü 0 olduğu zamanda D setine almıyoruz bile)\n",
    "\n",
    "Yükarıdaki 2 elemanları kapsayan tek bir nesne tipi  ``MyMatrix``bir class oluşturuoruz, bu sınıfı oluşturacağımız D ve f değerleri bir nesne içinde kapsamak için oluşturuyoruz."
   ]
  },
  {
   "cell_type": "markdown",
   "metadata": {},
   "source": [
    "\n",
    "## MyMatrix sınıfı"
   ]
  },
  {
   "cell_type": "code",
   "execution_count": 1,
   "metadata": {
    "collapsed": true
   },
   "outputs": [],
   "source": [
    "class MyMatrix():\n",
    "    def __init__(self, _d, _f):\n",
    "        self.D = _d\n",
    "        self.f = _f"
   ]
  },
  {
   "cell_type": "markdown",
   "metadata": {},
   "source": [
    "#### Verilen bir BW image için Sprace Matrix (MyMatrix tipinden)  oluşturan bir fonksiyon :"
   ]
  },
  {
   "cell_type": "code",
   "execution_count": 156,
   "metadata": {
    "collapsed": true
   },
   "outputs": [],
   "source": [
    "def Create_D_F_uzun(img):\n",
    "    d = set()\n",
    "    for i in range(img.shape[0]):\n",
    "        for j in range(img.shape[1]):\n",
    "            if img[i,j] == 0:\n",
    "                d.add((i,j))\n",
    "    f = {}\n",
    "    for i,j in d:\n",
    "        f[(i,j)] = 1\n",
    "    return MyMatrix(d,f)"
   ]
  },
  {
   "cell_type": "markdown",
   "metadata": {},
   "source": [
    "**Note:** Yükarıdaki fonksiyon 100% tam aynı işlem yapan fonksiyon list comperhension syntaxı kullanarak aşağıda gibi yazabiliriz :"
   ]
  },
  {
   "cell_type": "code",
   "execution_count": null,
   "metadata": {
    "collapsed": true
   },
   "outputs": [],
   "source": [
    "def Create_D_F(img):\n",
    "    d = {(i,j)   for i in range(img.shape[0])\n",
    "                 for j in range(img.shape[1])\n",
    "                 if img[i,j] == 0\n",
    "        }\n",
    "    f = {(i,j):1 for i,j in d}\n",
    "    return MyMatrix(d,f)"
   ]
  },
  {
   "cell_type": "markdown",
   "metadata": {},
   "source": [
    "### MyMatrix Test :"
   ]
  },
  {
   "cell_type": "code",
   "execution_count": 160,
   "metadata": {},
   "outputs": [
    {
     "data": {
      "image/png": "[encoded data removed]",
      "text/plain": [
       "<matplotlib.figure.Figure at 0x7fe7c9215470>"
      ]
     },
     "metadata": {},
     "output_type": "display_data"
    }
   ],
   "source": [
    "# bir foto yükleme\n",
    "img = imread('Bug.png')\n",
    "\n",
    "# Beyaz Siyaha Çevirmek\n",
    "img_bw = convert_RGB_to_BW(img, 0.45)\n",
    "\n",
    "# Sprace Matrisi oluşturmak\n",
    "spraceMat = Create_D_F(img_bw)\n",
    "\n",
    "plt.subplot(1,2,1), plt.imshow(img)\n",
    "plt.subplot(1,2,2), plt.imshow(img_bw, cmap='gray')\n",
    "plt.show()"
   ]
  },
  {
   "cell_type": "code",
   "execution_count": 172,
   "metadata": {},
   "outputs": [
    {
     "name": "stdout",
     "output_type": "stream",
     "text": [
      "spraceMat.D ilk 5 eleman :\n",
      "\t (308, 246)\n",
      "\t (290, 329)\n",
      "\t (312, 241)\n",
      "\t (241, 317)\n",
      "\t (190, 246)\n"
     ]
    }
   ],
   "source": [
    "print('spraceMat.D ilk 5 eleman :')\n",
    "D_ilk_5_eleman = list(spraceMat.D)[0:5]\n",
    "for i in D_ilk_5_eleman:\n",
    "    print('\\t', i)"
   ]
  },
  {
   "cell_type": "code",
   "execution_count": 173,
   "metadata": {},
   "outputs": [
    {
     "name": "stdout",
     "output_type": "stream",
     "text": [
      "spraceMat.f ilk 5 eleman :\n",
      "\tspraceMat.f[(308, 246)]\t= 1\n",
      "\tspraceMat.f[(290, 329)]\t= 1\n",
      "\tspraceMat.f[(312, 241)]\t= 1\n",
      "\tspraceMat.f[(241, 317)]\t= 1\n",
      "\tspraceMat.f[(190, 246)]\t= 1\n"
     ]
    }
   ],
   "source": [
    "print('spraceMat.f ilk 5 eleman :')\n",
    "for i in D_ilk_5_eleman:\n",
    "    print('\\tspraceMat.f[' + str(i) + ']\\t= ' + str(spraceMat.f[i]))    "
   ]
  },
  {
   "cell_type": "code",
   "execution_count": 163,
   "metadata": {},
   "outputs": [
    {
     "name": "stdout",
     "output_type": "stream",
     "text": [
      "BW image shape : \t\t(375, 500)\n",
      "BW image eleman sayisi :\t187500\n",
      "spraceMat.D elemanlar sayisi :\t11823\n"
     ]
    }
   ],
   "source": [
    "shape = img_bw.shape\n",
    "print('BW image shape : \\t\\t' + str(shape))\n",
    "print('BW image eleman sayisi :\\t' + str(shape[0] * shape[1]))\n",
    "print('spraceMat.D elemanlar sayisi :\\t' + str(len(spraceMat.D)))"
   ]
  },
  {
   "cell_type": "markdown",
   "metadata": {},
   "source": [
    "Yükarıda görüldüğü gibi asıl BW fotoğrafta ~187 bin eleman varken sprace matrisinde sadece ~11 bin eleman var."
   ]
  }
 ],
 "metadata": {
  "kernelspec": {
   "display_name": "Python 3",
   "language": "python",
   "name": "python3"
  },
  "language_info": {
   "codemirror_mode": {
    "name": "ipython",
    "version": 3
   },
   "file_extension": ".py",
   "mimetype": "text/x-python",
   "name": "python",
   "nbconvert_exporter": "python",
   "pygments_lexer": "ipython3",
   "version": "3.6.3"
  }
 },
 "nbformat": 4,
 "nbformat_minor": 2
}
